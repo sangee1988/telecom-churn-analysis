{
  "nbformat": 4,
  "nbformat_minor": 0,
  "metadata": {
    "colab": {
      "private_outputs": true,
      "provenance": [],
      "collapsed_sections": [
        "gIfDvo9L0UH2"
      ],
      "include_colab_link": true
    },
    "kernelspec": {
      "name": "python3",
      "display_name": "Python 3"
    },
    "language_info": {
      "name": "python"
    }
  },
  "cells": [
    {
      "cell_type": "markdown",
      "metadata": {
        "id": "view-in-github",
        "colab_type": "text"
      },
      "source": [
        "<a href=\"https://colab.research.google.com/github/sangee1988/telecom-churn-analysis/blob/main/Telecom_Churn_Analysis.ipynb\" target=\"_parent\"><img src=\"https://colab.research.google.com/assets/colab-badge.svg\" alt=\"Open In Colab\"/></a>"
      ]
    },
    {
      "cell_type": "markdown",
      "source": [
        "# **Project Name**    - Telecom Churn Analysis\n",
        "\n",
        "\n"
      ],
      "metadata": {
        "id": "vncDsAP0Gaoa"
      }
    },
    {
      "cell_type": "markdown",
      "source": [
        "##### **Project Type**    - EDA\n",
        "##### **Contribution**    - Individual\n"
      ],
      "metadata": {
        "id": "beRrZCGUAJYm"
      }
    },
    {
      "cell_type": "markdown",
      "source": [
        "# **Project Summary -**"
      ],
      "metadata": {
        "id": "FJNUwmbgGyua"
      }
    },
    {
      "cell_type": "markdown",
      "source": [
        "Customer churn refers to when a customer (player, subscriber, user, etc.) ceases his or her relationship with a company. Businesses typically treat a customer as churned once a particular amount of time has elapsed since the customer’s last interaction with the site or service. The full cost of customer churn includes both lost revenue and the marketing costs involved with replacing those customers with new ones. Reduction customer churn is important because cost of acquiring a new customer is higher than retaining an existing one. Reducing customer churn is a key business goal of every business. This case is related to telecom industry where particular organizations want to know that for given certain parameters whether a person will churn or not."
      ],
      "metadata": {
        "id": "bFOIslwSZ7hd"
      }
    },
    {
      "cell_type": "markdown",
      "source": [
        "# **GitHub Link -**"
      ],
      "metadata": {
        "id": "w6K7xa23Elo4"
      }
    },
    {
      "cell_type": "markdown",
      "source": [
        "https://github.com/sangee1988/telecom-churn-analysis"
      ],
      "metadata": {
        "id": "h1o69JH3Eqqn"
      }
    },
    {
      "cell_type": "markdown",
      "source": [
        "# **Problem Statement**\n"
      ],
      "metadata": {
        "id": "yQaldy8SH6Dl"
      }
    },
    {
      "cell_type": "markdown",
      "source": [
        "Churn (loss of customers to competition) is a problem for companies because it is more expensive to acquire a new customer than to keep your existing one from leaving. This problem statement is targeted at enabling churn reduction using analytics concepts. We have to Churn Rate on the basis of their usage data.\n",
        "\n",
        "\n",
        "Recommend the steps to retain existing telecom customers. In the industry retaining customers is going challenging day by day and acquire new customers is even draining so retaining the existing customers is highly worths every effort than acquiring new customers.\n",
        "\n",
        "Know the customer behavior and recommend the steps to retain existing customers and build the model to know which existing customers may leave.\n",
        "\n",
        "Recommend the steps to retain existing telecom customers.\n",
        "\n",
        "Build customer churn, prediction model."
      ],
      "metadata": {
        "id": "dQMqUe4SZtM7"
      }
    },
    {
      "cell_type": "markdown",
      "source": [
        "#### **Define Your Business Objective?**"
      ],
      "metadata": {
        "id": "PH-0ReGfmX4f"
      }
    },
    {
      "cell_type": "markdown",
      "source": [
        "Maximize: Company's profit by retaining customer\n",
        "\n",
        "Minimize: Customer churn by identifying the key cause of the problem"
      ],
      "metadata": {
        "id": "PhDvGCAqmjP1"
      }
    },
    {
      "cell_type": "markdown",
      "source": [
        "# **General Guidelines** : -  "
      ],
      "metadata": {
        "id": "mDgbUHAGgjLW"
      }
    },
    {
      "cell_type": "markdown",
      "source": [
        "1.   Well-structured, formatted, and commented code is required.\n",
        "2.   Exception Handling, Production Grade Code & Deployment Ready Code will be a plus. Those students will be awarded some additional credits.\n",
        "     \n",
        "     The additional credits will have advantages over other students during Star Student selection.\n",
        "       \n",
        "             [ Note: - Deployment Ready Code is defined as, the whole .ipynb notebook should be executable in one go\n",
        "                       without a single error logged. ]\n",
        "\n",
        "3.   Each and every logic should have proper comments.\n",
        "4. You may add as many number of charts you want. Make Sure for each and every chart the following format should be answered.\n",
        "        \n",
        "\n",
        "```\n",
        "# Chart visualization code\n",
        "```\n",
        "            \n",
        "\n",
        "*   Why did you pick the specific chart?\n",
        "*   What is/are the insight(s) found from the chart?\n",
        "* Will the gained insights help creating a positive business impact?\n",
        "Are there any insights that lead to negative growth? Justify with specific reason.\n",
        "\n",
        "5. You have to create at least 20 logical & meaningful charts having important insights.\n",
        "\n",
        "\n",
        "[ Hints : - Do the Vizualization in  a structured way while following \"UBM\" Rule.\n",
        "\n",
        "U - Univariate Analysis,\n",
        "\n",
        "B - Bivariate Analysis (Numerical - Categorical, Numerical - Numerical, Categorical - Categorical)\n",
        "\n",
        "M - Multivariate Analysis\n",
        " ]\n",
        "\n",
        "\n",
        "\n"
      ],
      "metadata": {
        "id": "ZrxVaUj-hHfC"
      }
    },
    {
      "cell_type": "markdown",
      "source": [
        "# ***Let's Begin !***"
      ],
      "metadata": {
        "id": "O_i_v8NEhb9l"
      }
    },
    {
      "cell_type": "markdown",
      "source": [
        "## ***1. Know Your Data***"
      ],
      "metadata": {
        "id": "HhfV-JJviCcP"
      }
    },
    {
      "cell_type": "markdown",
      "source": [
        "### Import Libraries"
      ],
      "metadata": {
        "id": "Y3lxredqlCYt"
      }
    },
    {
      "cell_type": "code",
      "source": [
        "# Importing Libraries\n",
        "# we don't like warnings\n",
        "import warnings\n",
        "warnings.filterwarnings(\"ignore\")\n",
        "# Customer Analysis and EDA\n",
        "import numpy as np\n",
        "import pandas as pd\n",
        "\n",
        "\n",
        "\n",
        "# Matplotlib forms basis for visualization in Python\n",
        "import matplotlib.pyplot as plt\n",
        "\n",
        "%matplotlib inline\n",
        "# We will use the Seaborn library\n",
        "import seaborn as sns\n",
        "\n",
        "sns.set()\n",
        "#Loading Dataset\n",
        "from google.colab import drive\n",
        "drive.mount('/content/drive')\n"
      ],
      "metadata": {
        "id": "M8Vqi-pPk-HR"
      },
      "execution_count": null,
      "outputs": []
    },
    {
      "cell_type": "markdown",
      "source": [
        "### Dataset Loading"
      ],
      "metadata": {
        "id": "3RnN4peoiCZX"
      }
    },
    {
      "cell_type": "markdown",
      "source": [
        "We'll demonstrate the main methods in action by analyzing a dataset on the churn rate of telecom operator clients. Let's read the data (using read_csv), and take a look at the first 5 lines using the head method:"
      ],
      "metadata": {
        "id": "7psU2RoTrBoM"
      }
    },
    {
      "cell_type": "code",
      "source": [
        "df=pd.read_csv(\"/content/Telecom Churn.csv\")\n"
      ],
      "metadata": {
        "id": "4CkvbW_SlZ_R"
      },
      "execution_count": null,
      "outputs": []
    },
    {
      "cell_type": "markdown",
      "source": [
        "### Dataset First View"
      ],
      "metadata": {
        "id": "x71ZqKXriCWQ"
      }
    },
    {
      "cell_type": "code",
      "source": [
        "df.head()"
      ],
      "metadata": {
        "id": "LWNFOSvLl09H"
      },
      "execution_count": null,
      "outputs": []
    },
    {
      "cell_type": "markdown",
      "source": [
        "The last data column, Churn, is our target variable. It is binary: True indicates that that the company eventually lost this customer, and False indicates that the customer was retained. Later, we will build models that predict this feature based on the remaining features. This is why we call it a target."
      ],
      "metadata": {
        "id": "q_T-Bb1xD0Y-"
      }
    },
    {
      "cell_type": "code",
      "source": [
        "# tail of data\n",
        "df.tail()"
      ],
      "metadata": {
        "id": "No6SKgW6af9m"
      },
      "execution_count": null,
      "outputs": []
    },
    {
      "cell_type": "markdown",
      "source": [
        "### Dataset Rows & Columns count"
      ],
      "metadata": {
        "id": "7hBIi_osiCS2"
      }
    },
    {
      "cell_type": "markdown",
      "source": [
        "Let’s have a look at data dimensionality, feature names, and feature types:"
      ],
      "metadata": {
        "id": "26D6YWLwpSXW"
      }
    },
    {
      "cell_type": "code",
      "source": [
        "print(df.shape)"
      ],
      "metadata": {
        "id": "iNPdxxNpn4m-"
      },
      "execution_count": null,
      "outputs": []
    },
    {
      "cell_type": "markdown",
      "source": [
        "From the output, we can see that the table contains 3333 rows and 20 columns."
      ],
      "metadata": {
        "id": "dRncdEcprcxR"
      }
    },
    {
      "cell_type": "markdown",
      "source": [
        "Now let's try printing out column names using columns:"
      ],
      "metadata": {
        "id": "maP6rRoRrNje"
      }
    },
    {
      "cell_type": "code",
      "source": [
        "df.columns.values"
      ],
      "metadata": {
        "id": "0fkJy8JorQme"
      },
      "execution_count": null,
      "outputs": []
    },
    {
      "cell_type": "markdown",
      "source": [
        "### Dataset Information"
      ],
      "metadata": {
        "id": "JlHwYmJAmNHm"
      }
    },
    {
      "cell_type": "markdown",
      "source": [
        "We can use the info() method to output some general information about the dataframe:"
      ],
      "metadata": {
        "id": "eAPniARWrzrV"
      }
    },
    {
      "cell_type": "code",
      "source": [
        "# Dataset Info\n",
        "df.info()"
      ],
      "metadata": {
        "id": "e9hRXRi6meOf"
      },
      "execution_count": null,
      "outputs": []
    },
    {
      "cell_type": "markdown",
      "source": [
        "bool, int64, float64 and object are the data types of our features. We see that one feature is logical (bool), 3 features are of type object, and 16 features are numeric. With this same method, we can easily see if there are any missing values. Here, there are none because each column contains 3333 observations, the same number of rows we saw before with shape."
      ],
      "metadata": {
        "id": "B3OP1u9Ew8Nc"
      }
    },
    {
      "cell_type": "markdown",
      "source": [
        "## ***2. Understanding Your Variables***"
      ],
      "metadata": {
        "id": "NwRfIgM_sujv"
      }
    },
    {
      "cell_type": "markdown",
      "source": [
        "\n",
        "\n",
        "We can change the column type with the astype method. Let's apply this method to the Churn feature to convert it into int64:"
      ],
      "metadata": {
        "id": "wgwCJGvJwwYI"
      }
    },
    {
      "cell_type": "code",
      "source": [
        "df[\"Churn\"] = df[\"Churn\"].astype(\"int64\")"
      ],
      "metadata": {
        "id": "UHQ8lMN3xHQW"
      },
      "execution_count": null,
      "outputs": []
    },
    {
      "cell_type": "markdown",
      "source": [
        "The describe method shows basic statistical characteristics of each numerical feature (int64 and float64 types): number of non-missing values, mean, standard deviation, range, median, 0.25 and 0.75 quartiles."
      ],
      "metadata": {
        "id": "6r0DjF4bxMPU"
      }
    },
    {
      "cell_type": "code",
      "source": [
        "# Dataset Describe\n",
        "df.describe()"
      ],
      "metadata": {
        "id": "vsNsS4SLspB-"
      },
      "execution_count": null,
      "outputs": []
    },
    {
      "cell_type": "markdown",
      "source": [
        "**Checking for Missing And Duplicate values**"
      ],
      "metadata": {
        "id": "zub9ey78bgZL"
      }
    },
    {
      "cell_type": "markdown",
      "source": [
        "#### Duplicate Values"
      ],
      "metadata": {
        "id": "35m5QtbWiB9F"
      }
    },
    {
      "cell_type": "code",
      "source": [
        "\n",
        "# Checking Duplicate Values\n",
        "len(df[df.duplicated()])"
      ],
      "metadata": {
        "id": "1sLdpKYkmox0"
      },
      "execution_count": null,
      "outputs": []
    },
    {
      "cell_type": "markdown",
      "source": [
        "there are no duplicate value present"
      ],
      "metadata": {
        "id": "bzQenQukNvLx"
      }
    },
    {
      "cell_type": "markdown",
      "source": [
        "#### Missing Values/Null Values"
      ],
      "metadata": {
        "id": "PoPl-ycgm1ru"
      }
    },
    {
      "cell_type": "code",
      "source": [
        "#Checking missing values in train dataset\n",
        "df.isna().sum()\n",
        "df.isnull().sum()"
      ],
      "metadata": {
        "id": "GgHWkxvamxVg"
      },
      "execution_count": null,
      "outputs": []
    },
    {
      "cell_type": "code",
      "source": [
        "# Visualizing the missing values"
      ],
      "metadata": {
        "id": "1ZJTngi4bTtp"
      },
      "execution_count": null,
      "outputs": []
    },
    {
      "cell_type": "code",
      "source": [
        "missing = pd.DataFrame(df.isnull().sum()*100/df.shape[0]).reset_index()\n",
        "plt.figure(figsize=(16, 5))\n",
        "ax = sns.pointplot(x='index', y=0, data=missing)\n",
        "plt.xticks(rotation=90, fontsize=7)\n",
        "plt.title(\"Percentage of Missing values\")\n",
        "plt.ylabel(\"PERCENTAGE\")\n",
        "plt.show()"
      ],
      "metadata": {
        "id": "GswPoSGaK_hc"
      },
      "execution_count": null,
      "outputs": []
    },
    {
      "cell_type": "markdown",
      "source": [
        " Let's have a look at the distribution of Churn:\n",
        "\n"
      ],
      "metadata": {
        "id": "C2fsHNMGzp2k"
      }
    },
    {
      "cell_type": "code",
      "source": [
        "df[\"Churn\"].value_counts()"
      ],
      "metadata": {
        "id": "CnVzatW4xsjM"
      },
      "execution_count": null,
      "outputs": []
    },
    {
      "cell_type": "markdown",
      "source": [
        "2850 users out of 3333 are loyal; their Churn value is 0."
      ],
      "metadata": {
        "id": "rqzTnTAp0EwQ"
      }
    },
    {
      "cell_type": "markdown",
      "source": [
        "### What did you know about your dataset?"
      ],
      "metadata": {
        "id": "H0kj-8xxnORC"
      }
    },
    {
      "cell_type": "markdown",
      "source": [
        "As of now There are 3333 rows and 20 columns in above dataset.\n",
        "\n",
        "out of which there are 1 boolean data type i.e churn\n",
        "\n",
        "8 float data type\n",
        "\n",
        "8 integer data type,\n",
        "\n",
        "3 object data type i.e catagarical value are there.\n",
        "\n",
        "There are no missing value present so no need to do the missing value imputation.\n",
        "\n",
        "And also there are no duplicate value present."
      ],
      "metadata": {
        "id": "2Mu8y0m1eJmq"
      }
    },
    {
      "cell_type": "markdown",
      "source": [
        "## 3. ***Data Wrangling***"
      ],
      "metadata": {
        "id": "dauF4eBmngu3"
      }
    },
    {
      "cell_type": "markdown",
      "source": [
        "### Data Wrangling Code"
      ],
      "metadata": {
        "id": "bKJF3rekwFvQ"
      }
    },
    {
      "cell_type": "markdown",
      "source": [
        "Here is an example where we group the data according to the values of the Churn variable and display statistics of three columns in each group:\n"
      ],
      "metadata": {
        "id": "RMJUxWqs3WZo"
      }
    },
    {
      "cell_type": "code",
      "source": [
        "columns_to_show = [\"Total day minutes\", \"Total eve minutes\", \"Total night minutes\"]\n",
        "\n",
        "df.groupby([\"Churn\"])[columns_to_show].describe(percentiles=[])"
      ],
      "metadata": {
        "id": "wk-9a2fpoLcV"
      },
      "execution_count": null,
      "outputs": []
    },
    {
      "cell_type": "markdown",
      "source": [
        "Let’s do the same thing, but slightly differently by passing a list of functions to agg():"
      ],
      "metadata": {
        "id": "Jg6TKf8C3iWy"
      }
    },
    {
      "cell_type": "code",
      "source": [
        "columns_to_show = [\"Total day minutes\", \"Total eve minutes\", \"Total night minutes\"]\n",
        "\n",
        "df.groupby([\"Churn\"])[columns_to_show].agg([np.mean, np.std, np.min, np.max])"
      ],
      "metadata": {
        "id": "8cnkQWS73kB7"
      },
      "execution_count": null,
      "outputs": []
    },
    {
      "cell_type": "markdown",
      "source": [
        "### What all manipulations have you done and insights you found?"
      ],
      "metadata": {
        "id": "MSa1f5Uengrz"
      }
    },
    {
      "cell_type": "markdown",
      "source": [
        "Summary tables\n",
        "\n",
        "Suppose we want to see how the observations in our sample are distributed in the context of two variables - Churn and International plan. To do so, we can build a contingency table using the crosstab method:"
      ],
      "metadata": {
        "id": "LbyXE7I1olp8"
      }
    },
    {
      "cell_type": "code",
      "source": [
        "pd.crosstab(df[\"Churn\"], df[\"International plan\"])"
      ],
      "metadata": {
        "id": "Y11czYbn5rtj"
      },
      "execution_count": null,
      "outputs": []
    },
    {
      "cell_type": "markdown",
      "source": [
        "The majority of customers without an international plan did not churn (2,664 customers), while a smaller proportion churned (346 customers).\n",
        "Among customers with an international plan, a relatively higher proportion did not churn (186 customers) compared to those who churned (137 customers)."
      ],
      "metadata": {
        "id": "HW6wyOhHe5oL"
      }
    },
    {
      "cell_type": "code",
      "source": [
        "pd.crosstab(df[\"Churn\"], df[\"Voice mail plan\"], normalize=True)"
      ],
      "metadata": {
        "id": "QwHtF1m65yod"
      },
      "execution_count": null,
      "outputs": []
    },
    {
      "cell_type": "markdown",
      "source": [
        "Customers without a voice mail plan are more likely to not churn compared to those with a voice mail plan. Among customers without a voice mail plan, the proportion of customers who did not churn is significantly higher (60.24%) compared to those who churned (12.09%).\n",
        "On the other hand, for customers with a voice mail plan, the proportion of customers who did not churn is still higher (25.26%) but comparatively closer to the proportion of customers who churned (2.40%)."
      ],
      "metadata": {
        "id": "m92ed0EZfx5t"
      }
    },
    {
      "cell_type": "markdown",
      "source": [
        "We can see that most of the users are loyal and do not use additional services (International Plan/Voice mail)."
      ],
      "metadata": {
        "id": "tXevwIHg5_Sn"
      }
    },
    {
      "cell_type": "markdown",
      "source": [
        "First attempt at predicting telecom churn\n",
        "\n",
        "Let's see how churn rate is related to the International plan feature. We'll do this using a crosstab contingency table and also through visual analysis with Seaborn (however, visual analysis will be covered more thoroughly in the next article)."
      ],
      "metadata": {
        "id": "sZqIpVJC6W0t"
      }
    },
    {
      "cell_type": "code",
      "source": [
        "pd.crosstab(df[\"Churn\"], df[\"International plan\"], margins=True)"
      ],
      "metadata": {
        "id": "jLebWwyG6ahU"
      },
      "execution_count": null,
      "outputs": []
    },
    {
      "cell_type": "code",
      "source": [
        "sns.countplot(x=\"International plan\", hue=\"Churn\", data=df);"
      ],
      "metadata": {
        "id": "_jyIBrF-6ek1"
      },
      "execution_count": null,
      "outputs": []
    },
    {
      "cell_type": "markdown",
      "source": [
        "We see that, with International Plan, the churn rate is much higher, which is an interesting observation! Perhaps large and poorly controlled expenses with international calls are very conflict-prone and lead to dissatisfaction among the telecom operator's customers.\n",
        "\n",
        "Next, let's look at another important feature – Customer service calls. Let's also make a summary table and a picture."
      ],
      "metadata": {
        "id": "Yurn-8346lAW"
      }
    },
    {
      "cell_type": "code",
      "source": [
        "pd.crosstab(df[\"Churn\"], df[\"Customer service calls\"], margins=True)"
      ],
      "metadata": {
        "id": "reaBXKF86n83"
      },
      "execution_count": null,
      "outputs": []
    },
    {
      "cell_type": "code",
      "source": [
        "sns.countplot(x=\"Customer service calls\", hue=\"Churn\", data=df);"
      ],
      "metadata": {
        "id": "AlsTV27L6sCg"
      },
      "execution_count": null,
      "outputs": []
    },
    {
      "cell_type": "markdown",
      "source": [
        "Among customers who did not churn (Churn = False):\n",
        "\n",
        "The most common number of customer service calls was 1, with a count of 1,059 occurrences.\n",
        "The least common number of customer service calls was 9, with a count of 0 occurrences.\n",
        "Among customers who churned (Churn = True):\n",
        "\n",
        "The most common number of customer service calls was 1, with a count of 122 occurrences.\n",
        "The least common number of customer service calls was 8 and 9, with a count of 1 and 2 occurrences, respectively."
      ],
      "metadata": {
        "id": "8nNY8Q_1iLRj"
      }
    },
    {
      "cell_type": "markdown",
      "source": [
        "Although it's not so obvious from the summary table, it's easy to see from the above plot that the churn rate increases sharply from 4 customer service calls and above.\n",
        "\n",
        "Now let's add a binary feature to our DataFrame – Customer service calls > 3. And once again, let's see how it relates to churn."
      ],
      "metadata": {
        "id": "4C4RMwGa6yqT"
      }
    },
    {
      "cell_type": "code",
      "source": [
        "df[\"Many_service_calls\"] = (df[\"Customer service calls\"] > 3).astype(\"int\")\n",
        "\n",
        "pd.crosstab(df[\"Many_service_calls\"], df[\"Churn\"], margins=True)"
      ],
      "metadata": {
        "id": "oBoTEshR65La"
      },
      "execution_count": null,
      "outputs": []
    },
    {
      "cell_type": "code",
      "source": [
        "sns.countplot(x=\"Many_service_calls\", hue=\"Churn\", data=df);"
      ],
      "metadata": {
        "id": "wnvhRn_F69py"
      },
      "execution_count": null,
      "outputs": []
    },
    {
      "cell_type": "markdown",
      "source": [
        "Let's construct another contingency table that relates Churn with both International plan and freshly created Many_service_calls."
      ],
      "metadata": {
        "id": "aIQ8UWG27Cym"
      }
    },
    {
      "cell_type": "code",
      "source": [
        "pd.crosstab((df[\"Many_service_calls\"] == 1) & (df[\"International plan\"] == \"Yes\"), df[\"Churn\"])"
      ],
      "metadata": {
        "id": "ibrcTyWN7HB_"
      },
      "execution_count": null,
      "outputs": []
    },
    {
      "cell_type": "markdown",
      "source": [
        "Therefore, predicting that a customer is not loyal (Churn=1) in the case when the number of calls to the service center is greater than 3 and the International Plan is added (and predicting Churn=0 otherwise), we might expect an accuracy of 85.8% (we are mistaken only 464 + 9 times)."
      ],
      "metadata": {
        "id": "R2v8C5qI8ljO"
      }
    },
    {
      "cell_type": "markdown",
      "source": [
        "## ***4. Data Vizualization, Storytelling & Experimenting with charts : Understand the relationships between variables***"
      ],
      "metadata": {
        "id": "GF8Ens_Soomf"
      }
    },
    {
      "cell_type": "markdown",
      "source": [
        "To start with, visual exploration of data is the first thing one tends to do when dealing with a new task. We do preliminary checks and analysis using graphics and tables to summarize the data and leave out the less important details. It is much more convenient for us, humans, to grasp the main points this way than by reading many lines of raw data. It is amazing how much insight can be gained from seemingly simple charts created with available visualization tools.\n",
        "\n",
        "Next, when we analyze the performance of a model or report results, we also often use charts and images. Sometimes, for interpreting a complex model, we need to project high-dimensional spaces onto more visually intelligible 2D or 3D figures.\n",
        "\n",
        "\n",
        "\n",
        "In this article, we are going to get hands-on experience with visual exploration of data using popular libraries such as pandas, matplotlib and seaborn."
      ],
      "metadata": {
        "id": "ejlT0KShjasq"
      }
    },
    {
      "cell_type": "markdown",
      "source": [
        "![image.png](data:image/png;base64,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)"
      ],
      "metadata": {
        "id": "-pXDlQiyDIB5"
      }
    },
    {
      "cell_type": "markdown",
      "source": [
        "**Univariate visualization**\n",
        "\n",
        "\n",
        "Univariate analysis looks at one feature at a time. When we analyze a feature independently, we are usually mostly interested in the distribution of its values and ignore other features in the dataset.\n",
        "\n",
        "Below, we will consider different statistical types of features and the corresponding tools for their individual visual analysis.\n",
        "\n",
        "2.1 Quantitative features\n",
        "Quantitative features take on ordered numerical values. Those values can be discrete, like integers, or continuous, like real numbers, and usually express a count or a measurement."
      ],
      "metadata": {
        "id": "PmCa4hHXjqIm"
      }
    },
    {
      "cell_type": "markdown",
      "source": [
        "#### Chart - 1"
      ],
      "metadata": {
        "id": "0wOQAZs5pc--"
      }
    },
    {
      "cell_type": "markdown",
      "source": [
        "The easiest way to take a look at the distribution of a numerical variable is to plot its histogram using the DataFrame's method hist()."
      ],
      "metadata": {
        "id": "LIXPgHQSjZTK"
      }
    },
    {
      "cell_type": "code",
      "source": [
        "# Chart - 1 visualization code\n",
        "#Checking distribution of data via pandas visualization\n",
        "features = [\"Total day minutes\", \"Total intl calls\",\"Total intl minutes\",\"Total day calls\"]\n",
        "df[features].hist(figsize=(10,6));"
      ],
      "metadata": {
        "id": "7v_ESjsspbW7"
      },
      "execution_count": null,
      "outputs": []
    },
    {
      "cell_type": "markdown",
      "source": [
        "##### 1. Why did you pick the specific chart?\n",
        "The easiest way to take a look at the distribution of a numerical variable is to plot its histogram using the DataFrame's method hist().\n"
      ],
      "metadata": {
        "id": "K5QZ13OEpz2H"
      }
    },
    {
      "cell_type": "markdown",
      "source": [
        "It is clear that we have a Class Imbalance problem"
      ],
      "metadata": {
        "id": "XESiWehPqBRc"
      }
    },
    {
      "cell_type": "markdown",
      "source": [
        "##### 2. What is/are the insight(s) found from the chart?"
      ],
      "metadata": {
        "id": "lQ7QKXXCp7Bj"
      }
    },
    {
      "cell_type": "markdown",
      "source": [
        "\"Total day minutes\" histogram: The distribution of total minutes spent on daytime calls appears to be skewed to the right. There is a peak around the middle of the range, suggesting that a significant number of customers have a moderate number of daytime minutes.\n",
        "\n",
        "\"Total intl calls\" histogram: The distribution of the number of international calls made by customers seems to be skewed to the right. The majority of customers appear to make a low number of international calls, as indicated by the peak on the left side of the histogram.\n",
        "\n",
        "\"Total intl minutes\" histogram: The distribution of total international minutes used by customers also appears to be skewed to the right. Similar to the \"Total intl calls\" histogram, there is a peak on the left side, indicating that most customers use a relatively low number of international minutes.\n",
        "\n",
        "\"Total day calls\" histogram: The distribution of the number of daytime calls made by customers appears to be approximately normally distributed, with a peak around the middle of the range. The histogram is relatively symmetrical, suggesting that the number of daytime calls is evenly distributed among customers."
      ],
      "metadata": {
        "id": "C_j1G7yiqdRP"
      }
    },
    {
      "cell_type": "markdown",
      "source": [
        "##### 3. Will the gained insights help creating a positive business impact?\n",
        "Are there any insights that lead to negative growth? Justify with specific reason."
      ],
      "metadata": {
        "id": "448CDAPjqfQr"
      }
    },
    {
      "cell_type": "markdown",
      "source": [
        "\n",
        "The gained insights from the histograms alone may not directly lead to a positive business impact or negative growth. Histograms provide an initial understanding of the distribution and range of values for each variable but may not reveal the underlying business implications or actionable insights."
      ],
      "metadata": {
        "id": "3cspy4FjqxJW"
      }
    },
    {
      "cell_type": "markdown",
      "source": [
        "#### Chart - 2"
      ],
      "metadata": {
        "id": "KSlN3yHqYklG"
      }
    },
    {
      "cell_type": "markdown",
      "source": [
        "\n",
        "\n",
        "There is also another, often clearer, way to grasp the distribution: density plots or, more formally, Kernel Density Plots. They can be considered a smoothed version of the histogram. Their main advantage over the latter is that they do not depend on the size of the bins. Let's create density plots for the same variables:"
      ],
      "metadata": {
        "id": "WRjdSVBuLU_r"
      }
    },
    {
      "cell_type": "code",
      "source": [
        "# Chart - 2 visualization code\n",
        "\n",
        "df[features].plot(\n",
        "    kind=\"density\", subplots=True, layout=(2, 2), sharex=False, figsize=(10, 6));"
      ],
      "metadata": {
        "id": "R4YgtaqtYklH"
      },
      "execution_count": null,
      "outputs": []
    },
    {
      "cell_type": "markdown",
      "source": [
        "##### 1. Why did you pick the specific chart?"
      ],
      "metadata": {
        "id": "t6dVpIINYklI"
      }
    },
    {
      "cell_type": "markdown",
      "source": [
        "it provides more clear insights than histogram."
      ],
      "metadata": {
        "id": "5aaW0BYyYklI"
      }
    },
    {
      "cell_type": "markdown",
      "source": [
        "##### 2. What is/are the insight(s) found from the chart?"
      ],
      "metadata": {
        "id": "ijmpgYnKYklI"
      }
    },
    {
      "cell_type": "markdown",
      "source": [
        "We see that, with International Plan, the churn rate is much higher, which is an interesting observation! Perhaps large and poorly controlled expenses with international calls are very conflict-prone and lead to dissatisfaction among the telecom operator's customers."
      ],
      "metadata": {
        "id": "PSx9atu2YklI"
      }
    },
    {
      "cell_type": "markdown",
      "source": [
        "##### 3. Will the gained insights help creating a positive business impact?\n",
        "Are there any insights that lead to negative growth? Justify with specific reason."
      ],
      "metadata": {
        "id": "-JiQyfWJYklI"
      }
    },
    {
      "cell_type": "markdown",
      "source": [
        "Density plots alone may not directly lead to a positive or negative business impact.\n",
        "\n",
        "Density plots can be valuable for understanding the shape, skewness, multimodality, or any other distributional characteristics of the variables."
      ],
      "metadata": {
        "id": "BcBbebzrYklV"
      }
    },
    {
      "cell_type": "markdown",
      "source": [
        "#### Chart - 3"
      ],
      "metadata": {
        "id": "EM7whBJCYoAo"
      }
    },
    {
      "cell_type": "markdown",
      "source": [
        "Another useful type of visualization is a box plot. seaborn does a great job here:"
      ],
      "metadata": {
        "id": "-GsWDG8jNHOe"
      }
    },
    {
      "cell_type": "code",
      "source": [
        "# Chart - 3 visualization code\n",
        "# #Plotting Box Plot\n",
        "sns.boxplot(x=\"Total intl calls\", data=df);"
      ],
      "metadata": {
        "id": "t6GMdE67YoAp"
      },
      "execution_count": null,
      "outputs": []
    },
    {
      "cell_type": "markdown",
      "source": [
        "##### 1. Why did you pick the specific chart?"
      ],
      "metadata": {
        "id": "fge-S5ZAYoAp"
      }
    },
    {
      "cell_type": "markdown",
      "source": [
        "it is a suitable visualization for analyzing the distribution and summary statistics of a numerical variable\n",
        "\n"
      ],
      "metadata": {
        "id": "5dBItgRVYoAp"
      }
    },
    {
      "cell_type": "markdown",
      "source": [
        "##### 2. What is/are the insight(s) found from the chart?"
      ],
      "metadata": {
        "id": "85gYPyotYoAp"
      }
    },
    {
      "cell_type": "markdown",
      "source": [
        "\n",
        "**Range of \"Total intl calls\"**: The box plot provides information about the minimum and maximum values of the \"Total intl calls\" variable. The whiskers of the box plot extend to the minimum and maximum non-outlier values, giving an idea of the range of international calls made by customers.\n",
        "\n",
        "**Median value**: The horizontal line inside the box represents the median of the \"Total intl calls\" variable. It indicates the middle value of the distribution, separating the lower 50% from the upper 50% of the data. The median value can provide insight into the typical or central tendency of the number of international calls made by customers.\n",
        "\n",
        "**Variability**: The length of the box in the box plot represents the interquartile range (IQR), which captures the spread of the middle 50% of the data. A larger IQR suggests a greater variability in the number of international calls made by customers.\n",
        "\n",
        "**Outliers** : Any data points beyond the whiskers of the box plot are considered outliers. Outliers represent values that significantly deviate from the typical range of the data. The presence of outliers in the box plot can indicate unusual or extreme values of the \"Total intl calls\" variable."
      ],
      "metadata": {
        "id": "RoGjAbkUYoAp"
      }
    },
    {
      "cell_type": "markdown",
      "source": [
        "##### 3. Will the gained insights help creating a positive business impact?\n",
        "Customer Satisfaction: The number of international calls made by customers can be an indicator of their engagement or usage of international services.\n",
        "\n",
        "Cost Optimization: The box plot can also provide insights into potential cost optimization strategies\n",
        "\n",
        "Customer Retention: The presence of outliers in the box plot may indicate customers who make an unusually high number of international calls"
      ],
      "metadata": {
        "id": "SPzabFj0yZ-J"
      }
    },
    {
      "cell_type": "markdown",
      "source": [
        "#### Chart - 4"
      ],
      "metadata": {
        "id": "4Of9eVA-YrdM"
      }
    },
    {
      "cell_type": "code",
      "source": [
        "# Chart - 4 visualization code\n",
        "_, axes = plt.subplots(1, 2, sharey=True, figsize=(6, 4))\n",
        "sns.boxplot(data=df[\"Total intl calls\"], ax=axes[0])\n",
        "sns.violinplot(data=df[\"Total intl calls\"], ax=axes[1]);\n"
      ],
      "metadata": {
        "id": "jkKUwgkHn8_Z"
      },
      "execution_count": null,
      "outputs": []
    },
    {
      "cell_type": "markdown",
      "source": [
        "##### 1. Why did you pick the specific chart?"
      ],
      "metadata": {
        "id": "iky9q4vBYrdO"
      }
    },
    {
      "cell_type": "markdown",
      "source": [
        "The difference between the box and violin plots is that the former illustrates certain statistics concerning individual examples in a dataset while the violin plot concentrates more on the smoothed distribution as a whole.\n",
        "\n",
        "In our case, the violin plot does not contribute any additional information about the data as everything is clear from the box plot alone."
      ],
      "metadata": {
        "id": "aJRCwT6DYrdO"
      }
    },
    {
      "cell_type": "markdown",
      "source": [
        "##### 2. What is/are the insight(s) found from the chart?"
      ],
      "metadata": {
        "id": "F6T5p64dYrdO"
      }
    },
    {
      "cell_type": "markdown",
      "source": [
        "The violin plot shows the kernel density estimation of the data, providing information about the shape and density of the distribution."
      ],
      "metadata": {
        "id": "Xx8WAJvtYrdO"
      }
    },
    {
      "cell_type": "markdown",
      "source": [
        "##### 3. Will the gained insights help creating a positive business impact?\n",
        "Are there any insights that lead to negative growth? Justify with specific reason."
      ],
      "metadata": {
        "id": "y-Ehk30pYrdP"
      }
    },
    {
      "cell_type": "markdown",
      "source": [
        "Service Optimization: By analyzing the distribution and central tendency of the \"Total intl calls\" variable, businesses can gain insights into customer behavior and usage patterns.\n",
        "\n",
        "Customer Segmentation: Understanding the spread and variability of international call usage can help businesses identify customer segments with different usage patterns.\n",
        "\n",
        "Resource Allocation: Analyzing the data and identifying outliers can help businesses understand customers who make an unusually high number of international calls."
      ],
      "metadata": {
        "id": "jLNxxz7MYrdP"
      }
    },
    {
      "cell_type": "markdown",
      "source": [
        "2.2 **Categorical and binary features**\n",
        "\n",
        "Categorical features take on a fixed number of values. Each of these values assigns an observation to a corresponding group, known as a category, which reflects some qualitative property of this example. Binary variables are an important special case of categorical variables when the number of possible values is exactly 2. If the values of a categorical variable are ordered, it is called ordinal.\n",
        "\n",
        "Frequency table\n",
        "Let's check the class balance in our dataset by looking at the distribution of the target variable: the churn rate. First, we will get a frequency table, which shows how frequent each value of the categorical variable is. For this, we will use the value_counts() method:"
      ],
      "metadata": {
        "id": "3S5AuZTASG-T"
      }
    },
    {
      "cell_type": "markdown",
      "source": [
        "#### Chart - 5"
      ],
      "metadata": {
        "id": "bamQiAODYuh1"
      }
    },
    {
      "cell_type": "code",
      "source": [
        "# Chart - 5 visualization code\n",
        "#Target Variable data distribution\n",
        "plt.figure(figsize=(4,4))\n",
        "sns.countplot(x = df.Churn,palette='deep')\n",
        "plt.xlabel('Customer churn', fontsize= 10)\n",
        "plt.ylabel('Count', fontsize= 6)\n",
        "plt.title(\"Distribution of Customer Churning \",fontsize= 10)\n",
        "plt.show()"
      ],
      "metadata": {
        "id": "TIJwrbroYuh3"
      },
      "execution_count": null,
      "outputs": []
    },
    {
      "cell_type": "markdown",
      "source": [
        "##### 1. Why did you pick the specific chart?"
      ],
      "metadata": {
        "id": "QHF8YVU7Yuh3"
      }
    },
    {
      "cell_type": "markdown",
      "source": [
        "Bar plot\n",
        "The bar plot is a graphical representation of the frequency table. The easiest way to create it is to use the seaborn's function countplot(). There is another function in seaborn that is somewhat confusingly called barplot() and is mostly used for representation of some basic statistics of a numerical variable grouped by a categorical feature."
      ],
      "metadata": {
        "id": "dcxuIMRPYuh3"
      }
    },
    {
      "cell_type": "markdown",
      "source": [
        "##### 2. What is/are the insight(s) found from the chart?"
      ],
      "metadata": {
        "id": "GwzvFGzlYuh3"
      }
    },
    {
      "cell_type": "markdown",
      "source": [
        "It is clear that we have a Class Imbalance problem\n",
        "\n",
        "Imbalance in Churn Classes: The count plot provides information about the distribution of customer churn in the dataset. By observing the heights of the bars, you can determine the number of customers who churned (Churn = True) versus those who did not churn (Churn = False)."
      ],
      "metadata": {
        "id": "uyqkiB8YYuh3"
      }
    },
    {
      "cell_type": "markdown",
      "source": [
        "##### 3. Will the gained insights help creating a positive business impact?\n",
        "Are there any insights that lead to negative growth? Justify with specific reason."
      ],
      "metadata": {
        "id": "qYpmQ266Yuh3"
      }
    },
    {
      "cell_type": "markdown",
      "source": [
        "\n",
        "The gained insights from the count plot for customer churn can help in creating a positive business impact and identifying potential areas for improvement. Additionally, there are insights that, if not addressed, can lead to negative growth. Here's a breakdown:\n",
        "\n",
        "Positive Business Impact:\n",
        "\n",
        "Customer Retention Strategies: By analyzing the count plot and understanding the distribution of churned and non-churned customers, businesses can develop targeted customer retention strategies. This may involve identifying factors leading to churn, implementing proactive measures to retain customers, and enhancing customer satisfaction and loyalty. Effective retention strategies can lead to positive business impact by reducing churn rates, improving customer lifetime value, and fostering long-term customer relationships.\n",
        "\n",
        "Improved Customer Experience: The insights from the count plot can highlight the importance of providing an exceptional customer experience. By understanding the reasons behind customer churn, businesses can identify areas for improvement in their products, services, or customer support. Addressing these areas can lead to higher customer satisfaction, increased loyalty, and positive word-of-mouth recommendations.\n",
        "\n",
        "Negative Growth Considerations:\n",
        "\n",
        "High Churn Rate: If the count of churned customers is significantly higher compared to the count of non-churned customers, it indicates a high churn rate. This insight can be a potential negative growth factor as it suggests that a substantial number of customers are discontinuing their relationship with the business. A high churn rate can result in revenue loss, decreased market share, and increased customer acquisition costs.\n",
        "\n",
        "Customer Dissatisfaction: A high count of churned customers may indicate potential customer dissatisfaction or negative experiences. This insight raises concerns about the quality of products, services, or overall customer experience. If not addressed, customer dissatisfaction can lead to negative growth, including declining sales, negative brand reputation, and difficulty in attracting new customers"
      ],
      "metadata": {
        "id": "_WtzZ_hCYuh4"
      }
    },
    {
      "cell_type": "markdown",
      "source": [
        "#### Chart - 6"
      ],
      "metadata": {
        "id": "OH-pJp9IphqM"
      }
    },
    {
      "cell_type": "code",
      "source": [
        "# Chart - 6 visualization code\n",
        "#Groupby --> size to represent ---> unstack the category\n",
        "#train.groupby([\"state\", \"Churn\"]).size().unstack(level=-1).head()\n",
        "\n",
        "#Relationational bar graph for checking data distribution with respect to target variable\n",
        "def diff_bar(x,y):\n",
        "\n",
        "    df.groupby([x,y]).size().unstack(level=-1).plot(kind='bar', figsize=(35,10))\n",
        "    plt.xlabel(x,fontsize= 25)\n",
        "    plt.ylabel('count',fontsize= 25)\n",
        "    plt.legend(loc=0,fontsize= 25)\n",
        "    plt.xticks(fontsize=20)\n",
        "    plt.yticks(fontsize=20)\n",
        "    plt.title(\"{X} Vs {Y}\".format(X=x,Y=y),fontsize = 40)\n",
        "    plt.show()"
      ],
      "metadata": {
        "id": "kuRf4wtuphqN"
      },
      "execution_count": null,
      "outputs": []
    },
    {
      "cell_type": "code",
      "source": [
        "#State Wise Churning of customer\n",
        "diff_bar('State','Churn')"
      ],
      "metadata": {
        "id": "br7f7sRMTQ3p"
      },
      "execution_count": null,
      "outputs": []
    },
    {
      "cell_type": "markdown",
      "source": [
        "##### 1. Why did you pick the specific chart?"
      ],
      "metadata": {
        "id": "bbFf2-_FphqN"
      }
    },
    {
      "cell_type": "markdown",
      "source": [
        "The bar chart is a suitable choice when comparing different categories or groups"
      ],
      "metadata": {
        "id": "loh7H2nzphqN"
      }
    },
    {
      "cell_type": "markdown",
      "source": [
        "##### 2. What is/are the insight(s) found from the chart?"
      ],
      "metadata": {
        "id": "_ouA3fa0phqN"
      }
    },
    {
      "cell_type": "markdown",
      "source": [
        "Churn Variation by State: The heights of the bars indicate the count or frequency of churned and non-churned customers for each state. By comparing the heights of the bars, you can identify states with higher or lower churn rates.\n",
        "\n",
        "Regional Churn Patterns: The bar chart provides insights into regional churn patterns. States with higher bars indicate a higher count of churned customers, suggesting a relatively higher churn rate. Conversely, states with lower bars indicate a lower count of churned customers, suggesting a relatively lower churn rate.\n",
        "\n",
        "Identifying Churn Hotspots: By examining the chart, you can identify states where customer churn is particularly prominent or where the churn rate deviates significantly from the average. These states may require closer attention in terms of customer retention strategies, customer support, or targeted marketing efforts.\n",
        "\n",
        "State-Specific Factors: The bar chart can prompt further investigation into state-specific factors influencing churn. It highlights the importance of considering regional or local dynamics, such as customer demographics, market conditions, competition, or cultural preferences, that may contribute to variations in churn rates across states.\n",
        "\n",
        "Comparison and Benchmarking: The bar chart allows for a visual comparison of churn rates between states. By comparing the heights of the bars, you can identify states with relatively higher or lower churn rates compared to others. This insight can guide benchmarking efforts and help identify states that may serve as potential best practices or areas for improvement."
      ],
      "metadata": {
        "id": "VECbqPI7phqN"
      }
    },
    {
      "cell_type": "markdown",
      "source": [
        "##### 3. Will the gained insights help creating a positive business impact?\n",
        "Are there any insights that lead to negative growth? Justify with specific reason."
      ],
      "metadata": {
        "id": "Seke61FWphqN"
      }
    },
    {
      "cell_type": "markdown",
      "source": [
        "The gained insights from the bar chart comparing churn status across different states can potentially help in creating a positive business impact. However, there are also insights that, if not addressed, can lead to negative growth. Here's a breakdown:\n",
        "\n",
        "Positive Business Impact:\n",
        "\n",
        "Regional Targeting: The insights from the bar chart can aid in regional targeting and tailoring business strategies based on the variations in churn rates across states. Businesses can focus their marketing efforts, customer retention initiatives, and resource allocation on states with higher churn rates, aiming to reduce churn and improve customer satisfaction in those regions.\n",
        "\n",
        "Customer Retention Strategies: Understanding the states with lower churn rates can provide insights into potential best practices or factors contributing to customer loyalty. By studying these states, businesses can identify successful retention strategies and apply them to other regions, thereby improving customer retention rates and driving positive business impact.\n",
        "\n",
        "Improved Customer Support: The insights gained from the bar chart can indicate states with higher churn rates, which may signal potential customer dissatisfaction or issues. By targeting these states for improved customer support, businesses can address customer concerns, enhance the overall customer experience, and increase customer loyalty.\n",
        "\n",
        "Negative Growth Considerations:\n",
        "\n",
        "High Churn States: If the bar chart reveals states with significantly higher churn rates compared to others, it indicates areas of concern that can lead to negative growth. A high churn rate in certain states implies a larger number of customers discontinuing their relationship with the business. This can result in revenue loss, decreased market share, and increased customer acquisition costs.\n",
        "\n",
        "Regional Challenges: The variations in churn rates across states may indicate regional challenges or factors that are negatively impacting customer retention. Ignoring these challenges or failing to address the underlying issues can lead to negative growth in those regions. It is important to identify and address any regional-specific factors that contribute to high churn rates."
      ],
      "metadata": {
        "id": "DW4_bGpfphqN"
      }
    },
    {
      "cell_type": "markdown",
      "source": [
        "#### Chart - 7"
      ],
      "metadata": {
        "id": "PIIx-8_IphqN"
      }
    },
    {
      "cell_type": "code",
      "source": [
        "# Chart - 7 visualization code\n",
        "#area_code Wise Churning of customer\n",
        "diff_bar('Area code','Churn')\n",
        "\n"
      ],
      "metadata": {
        "id": "lqAIGUfyphqO"
      },
      "execution_count": null,
      "outputs": []
    },
    {
      "cell_type": "markdown",
      "source": [
        "##### 1. Why did you pick the specific chart?"
      ],
      "metadata": {
        "id": "t27r6nlMphqO"
      }
    },
    {
      "cell_type": "markdown",
      "source": [
        "  This bar chart that compares two categorical variables, in this case, 'Area code' and 'Churn'."
      ],
      "metadata": {
        "id": "iv6ro40sphqO"
      }
    },
    {
      "cell_type": "markdown",
      "source": [
        "##### 2. What is/are the insight(s) found from the chart?"
      ],
      "metadata": {
        "id": "r2jJGEOYphqO"
      }
    },
    {
      "cell_type": "markdown",
      "source": [
        "The chart provides insights into the churn rates across different area codes. By examining the bars, you can identify variations in the count of churned and non-churned customers for each area code. This allows you to understand the differences in churn patterns across different geographic regions."
      ],
      "metadata": {
        "id": "Po6ZPi4hphqO"
      }
    },
    {
      "cell_type": "markdown",
      "source": [
        "##### 3. Will the gained insights help creating a positive business impact?\n",
        "Are there any insights that lead to negative growth? Justify with specific reason."
      ],
      "metadata": {
        "id": "b0JNsNcRphqO"
      }
    },
    {
      "cell_type": "markdown",
      "source": [
        "Targeted Strategies: The insights from the chart can guide businesses in developing targeted strategies to reduce churn and improve customer retention. By identifying area codes with higher churn rates, businesses can allocate resources and implement initiatives tailored to those specific regions. This targeted approach can lead to improved customer satisfaction, loyalty, and positive business impact.\n",
        "\n",
        "Customer Segmentation: The chart highlights the importance of considering geographic segmentation. By understanding churn patterns across different area codes, businesses can segment their customer base accordingly and personalize their offerings and marketing strategies. This can result in increased customer engagement, higher conversion rates, and improved business performance.\n",
        "\n",
        "Regional Optimization: The insights gained from the chart can help businesses optimize their operations and resource allocation at a regional level. By identifying area codes with lower churn rates, businesses can prioritize those regions for expansion, allocate marketing efforts accordingly, and optimize service delivery to maximize growth opportunities.\n",
        "\n",
        "Negative Growth Considerations:\n",
        "\n",
        "High Churn Areas: If the chart reveals area codes with consistently high churn rates, it may indicate potential challenges or issues that can lead to negative growth. High churn rates suggest dissatisfaction or problems within those regions, which can result in revenue loss, decreased market share, and negative business impact. It is crucial for businesses to identify the underlying reasons for high churn rates and take corrective actions to mitigate negative growth.\n",
        "\n",
        "Competitive Landscape: The chart may uncover variations in churn rates across area codes, indicating differences in the competitive landscape. If certain area codes consistently exhibit higher churn rates compared to others, it could indicate intense competition or challenges in providing competitive offerings. Businesses operating in such areas need to carefully assess their competitive position, differentiate their products or services, and implement customer retention strategies to avoid negative growth."
      ],
      "metadata": {
        "id": "xvSq8iUTphqO"
      }
    },
    {
      "cell_type": "markdown",
      "source": [
        "#### Chart - 8"
      ],
      "metadata": {
        "id": "BZR9WyysphqO"
      }
    },
    {
      "cell_type": "code",
      "source": [
        "# Chart - 8 visualization code\n",
        "#International_Plan Wise Churning of customer\n",
        "diff_bar('International plan','Churn')"
      ],
      "metadata": {
        "id": "TdPTWpAVphqO"
      },
      "execution_count": null,
      "outputs": []
    },
    {
      "cell_type": "markdown",
      "source": [
        "##### 1. Why did you pick the specific chart?"
      ],
      "metadata": {
        "id": "jj7wYXLtphqO"
      }
    },
    {
      "cell_type": "markdown",
      "source": [
        " The diff_bar function generates a bar chart that compares two categorical variables, 'International plan' and 'Churn'. This allows for a visual comparison between these variables and provides insights into the relationship between customers having an international plan and their churn status."
      ],
      "metadata": {
        "id": "Ob8u6rCTphqO"
      }
    },
    {
      "cell_type": "markdown",
      "source": [
        "##### 2. What is/are the insight(s) found from the chart?"
      ],
      "metadata": {
        "id": "eZrbJ2SmphqO"
      }
    },
    {
      "cell_type": "markdown",
      "source": [
        "Impact of International Plan on Churn: By comparing the heights of the bars, you can observe the difference in churn rates between customers with an international plan and those without. If the churn rate for customers with an international plan is noticeably higher or lower compared to those without, it indicates a potential impact of the international plan on customer churn.\n",
        "\n",
        "Effectiveness of International Plans: The chart can provide insights into the effectiveness of international plans in retaining customers. If customers with an international plan have a lower churn rate, it suggests that the plan may be contributing to higher customer loyalty and retention. Conversely, if customers with an international plan have a higher churn rate, it may indicate dissatisfaction or other factors associated with the international plan."
      ],
      "metadata": {
        "id": "mZtgC_hjphqO"
      }
    },
    {
      "cell_type": "markdown",
      "source": [
        "##### 3. Will the gained insights help creating a positive business impact?\n",
        "Are there any insights that lead to negative growth? Justify with specific reason."
      ],
      "metadata": {
        "id": "rFu4xreNphqO"
      }
    },
    {
      "cell_type": "markdown",
      "source": [
        "Positive Business Impact:\n",
        "\n",
        "Targeted Retention Strategies: The insights from the chart can guide businesses in developing targeted retention strategies for customers with an international plan. By understanding the relationship between having an international plan and churn, businesses can identify specific pain points, address customer concerns, and implement initiatives to improve customer satisfaction and loyalty. This targeted approach can lead to increased retention rates and positive business impact.\n",
        "\n",
        "Customer Segmentation: The chart highlights the importance of customer segmentation based on the presence or absence of an international plan. This insight allows businesses to tailor their marketing and customer retention efforts based on the specific needs and behaviors of each segment. By understanding the churn patterns within each segment, businesses can develop personalized strategies to increase customer engagement and satisfaction.\n",
        "\n",
        "Negative Growth Considerations:\n",
        "\n",
        "Negative Impact of International Plans: If the chart reveals that customers with an international plan have a higher churn rate compared to those without, it may indicate potential challenges or issues related to the international plan. This insight can lead to negative growth if not addressed appropriately. Businesses should assess the reasons behind the higher churn rate and take corrective actions to mitigate negative growth.\n",
        "\n",
        "Dissatisfaction with International Plan: If customers with an international plan exhibit a higher churn rate, it suggests a potential dissatisfaction with the plan itself. This dissatisfaction may arise from factors such as pricing, call quality, available features, or customer support related to international services. Ignoring or neglecting these concerns can result in negative growth, as customers may seek alternative providers that better meet their international communication needs."
      ],
      "metadata": {
        "id": "ey_0qi68phqO"
      }
    },
    {
      "cell_type": "markdown",
      "source": [
        "#### Chart - 9"
      ],
      "metadata": {
        "id": "YJ55k-q6phqO"
      }
    },
    {
      "cell_type": "code",
      "source": [
        "# Chart - 9 visualization code\n",
        "#Number of Customer_Service Call Wise Churning of customer\n",
        "diff_bar('Customer service calls','Churn')"
      ],
      "metadata": {
        "id": "B2aS4O1ophqO"
      },
      "execution_count": null,
      "outputs": []
    },
    {
      "cell_type": "markdown",
      "source": [
        "##### 1. Why did you pick the specific chart?"
      ],
      "metadata": {
        "id": "gCFgpxoyphqP"
      }
    },
    {
      "cell_type": "markdown",
      "source": [
        "\n",
        "The diff_bar function generates a bar chart that compares two categorical variables, 'Customer service calls' and 'Churn'. This allows for a visual comparison between the number of customer service calls made and the churn status."
      ],
      "metadata": {
        "id": "TVxDimi2phqP"
      }
    },
    {
      "cell_type": "markdown",
      "source": [
        "##### 2. What is/are the insight(s) found from the chart?"
      ],
      "metadata": {
        "id": "OVtJsKN_phqQ"
      }
    },
    {
      "cell_type": "markdown",
      "source": [
        " By analyzing the heights of the bars, you can observe how the number of customer service calls relates to churn rates. This insight can help understand the effect of customer service interactions on customer retention."
      ],
      "metadata": {
        "id": "ngGi97qjphqQ"
      }
    },
    {
      "cell_type": "markdown",
      "source": [
        "##### 3. Will the gained insights help creating a positive business impact?\n",
        "Are there any insights that lead to negative growth? Justify with specific reason."
      ],
      "metadata": {
        "id": "lssrdh5qphqQ"
      }
    },
    {
      "cell_type": "markdown",
      "source": [
        "Service Call Optimization: The chart provides insights into the relationship between the number of customer service calls and churn. By analyzing the heights of the bars, businesses can identify the optimal range or level of service calls associated with lower churn rates. This insight can guide businesses in optimizing their customer service processes, reducing the need for excessive calls, and improving customer satisfaction.\n",
        "\n",
        "Customer Experience Improvement: Understanding the impact of customer service calls on churn can help businesses focus on enhancing the customer experience during these interactions. By analyzing any patterns or trends in churn rates based on the number of service calls, businesses can identify areas for improvement, such as call resolution efficiency, agent training, or self-service options. Improving the customer experience can positively impact customer satisfaction, loyalty, and business growth.\n",
        "\n",
        "Negative Growth Considerations:\n",
        "\n",
        "Excessive Service Calls: If the chart shows higher churn rates associated with a high number of customer service calls, it may indicate underlying issues such as dissatisfaction, ineffective issue resolution, or poor service quality. This insight suggests that excessive service calls may contribute to negative growth by frustrating customers and leading them to seek alternatives. Businesses should address the root causes and strive to reduce the need for multiple service calls.\n",
        "\n",
        "Inefficient Issue Resolution: If the chart reveals higher churn rates for customers with a certain number of service calls, it may imply that the issue resolution process is not effective or satisfactory. Customers experiencing prolonged or recurring problems despite multiple service calls may become dissatisfied and more likely to churn. Improving issue resolution efficiency and effectiveness can help mitigate negative growth and retain customers."
      ],
      "metadata": {
        "id": "tBpY5ekJphqQ"
      }
    },
    {
      "cell_type": "markdown",
      "source": [
        "#### Chart - 10"
      ],
      "metadata": {
        "id": "U2RJ9gkRphqQ"
      }
    },
    {
      "cell_type": "code",
      "source": [
        "# Chart - 10 visualization code\n",
        "#No. of Customer Churning and had a Voice mail plan\n",
        "diff_bar('Voice mail plan','Churn')\n"
      ],
      "metadata": {
        "id": "GM7a4YP4phqQ"
      },
      "execution_count": null,
      "outputs": []
    },
    {
      "cell_type": "markdown",
      "source": [
        "##### 1. Why did you pick the specific chart?"
      ],
      "metadata": {
        "id": "1M8mcRywphqQ"
      }
    },
    {
      "cell_type": "markdown",
      "source": [
        "The chart compares two categorical variables, 'Voice mail plan' and 'Churn', using bar plots. It allows for a visual comparison between customers with and without a voice mail plan in terms of their churn status."
      ],
      "metadata": {
        "id": "8agQvks0phqQ"
      }
    },
    {
      "cell_type": "markdown",
      "source": [
        "##### 2. What is/are the insight(s) found from the chart?"
      ],
      "metadata": {
        "id": "tgIPom80phqQ"
      }
    },
    {
      "cell_type": "markdown",
      "source": [
        "By analyzing the heights of the bars, you can observe the difference in churn rates between customers with a voice mail plan and those without. If the churn rate for customers with a voice mail plan is noticeably higher or lower compared to those without, it indicates a potential impact of the voice mail plan on customer churn."
      ],
      "metadata": {
        "id": "Qp13pnNzphqQ"
      }
    },
    {
      "cell_type": "markdown",
      "source": [
        "##### 3. Will the gained insights help creating a positive business impact?\n",
        "Are there any insights that lead to negative growth? Justify with specific reason."
      ],
      "metadata": {
        "id": "JMzcOPDDphqR"
      }
    },
    {
      "cell_type": "markdown",
      "source": [
        "Tailored Retention Strategies: The insights from the chart can guide businesses in developing tailored retention strategies for customers with and without a voice mail plan. By understanding the relationship between having a voice mail plan and churn, businesses can identify specific needs, preferences, and pain points, and design retention initiatives accordingly. This targeted approach can lead to increased customer satisfaction, loyalty, and positive business impact.\n",
        "\n",
        "Value of Communication Features: If the chart reveals a lower churn rate for customers with a voice mail plan, it suggests that additional communication features, such as voice mail, can contribute to customer retention. Businesses can leverage this insight to promote the value of these features, enhance their offerings, and improve customer satisfaction.\n",
        "\n",
        "Negative Growth Considerations:\n",
        "\n",
        "Dissatisfaction with Voice Mail Plans: If the chart shows a higher churn rate for customers with a voice mail plan, it may indicate potential dissatisfaction or issues related to the plan. This insight suggests that the voice mail plan may not meet customer expectations, provide sufficient value, or address their communication needs. Neglecting these concerns can result in negative growth as customers seek alternative providers that better meet their requirements.\n",
        "\n",
        "Preference for Alternate Communication Methods: If customers with a voice mail plan exhibit a higher churn rate, it may suggest that they prefer alternative communication methods or platforms over voice mail. This insight indicates that businesses need to adapt their offerings and communication strategies to align with evolving customer preferences. Ignoring these preferences can lead to negative growth as customers migrate to more preferred communication options."
      ],
      "metadata": {
        "id": "R4Ka1PC2phqR"
      }
    },
    {
      "cell_type": "markdown",
      "source": [
        "3. Multivariate visualization\n",
        "Multivariate plots allow us to see relationships between two and more different variables, all in one figure. Just as in the case of univariate plots, the specific type of visualization will depend on the types of the variables being analyzed.\n",
        "\n",
        "3.1 Quantitative vs. Quantitative"
      ],
      "metadata": {
        "id": "hPTRHBpqVJkI"
      }
    },
    {
      "cell_type": "markdown",
      "source": [
        "#### Chart - 11"
      ],
      "metadata": {
        "id": "x-EpHcCOp1ci"
      }
    },
    {
      "cell_type": "code",
      "source": [
        "# Chart - 11 visualization code\n",
        "#Scatter plot function\n",
        "plt.scatter(df[\"Total day minutes\"], df[\"Total night minutes\"]);"
      ],
      "metadata": {
        "id": "mAQTIvtqp1cj"
      },
      "execution_count": null,
      "outputs": []
    },
    {
      "cell_type": "markdown",
      "source": [
        "##### 1. Why did you pick the specific chart?"
      ],
      "metadata": {
        "id": "X_VqEhTip1ck"
      }
    },
    {
      "cell_type": "markdown",
      "source": [
        "We get an uninteresting picture of two normally distributed variables. Also, it seems that these features are uncorrelated because the ellipse-like shape is aligned with the axes.\n",
        "\n",
        "There is a slightly fancier option to create a scatter plot with the seaborn library:"
      ],
      "metadata": {
        "id": "-vsMzt_np1ck"
      }
    },
    {
      "cell_type": "markdown",
      "source": [
        "The scatter plot allows you to visually explore the relationship between two continuous variables, \"Total day minutes\" and \"Total night minutes\". Each data point represents an observation, with one variable plotted on the x-axis and the other on the y-axis. This type of chart is useful for examining the nature and strength of the relationship between the variables."
      ],
      "metadata": {
        "id": "Ox6hZ3m-6t7w"
      }
    },
    {
      "cell_type": "markdown",
      "source": [
        "##### 2. What is/are the insight(s) found from the chart?"
      ],
      "metadata": {
        "id": "8zGJKyg5p1ck"
      }
    },
    {
      "cell_type": "markdown",
      "source": [
        "We get an uninteresting picture of two normally distributed variables. Also, it seems that these features are uncorrelated because the ellipse-like shape is aligned with the axes.\n",
        "\n",
        "There is a slightly fancier option to create a scatter plot with the seaborn library."
      ],
      "metadata": {
        "id": "ZYdMsrqVp1ck"
      }
    },
    {
      "cell_type": "markdown",
      "source": [
        "##### 3. Will the gained insights help creating a positive business impact?\n",
        "Are there any insights that lead to negative growth? Justify with specific reason."
      ],
      "metadata": {
        "id": "PVzmfK_Ep1ck"
      }
    },
    {
      "cell_type": "markdown",
      "source": [
        "Positive Business Impact:\n",
        "\n",
        "Relationship Understanding: The scatter plot helps understand the relationship between \"Total day minutes\" and \"Total night minutes\". If there is a clear positive correlation between the two variables (points tend to form an upward-sloping pattern), it suggests that customers who use more minutes during the day also tend to use more minutes during the night. This understanding can inform targeted marketing strategies or service plans to cater to customer usage patterns.\n",
        "\n",
        "Usage Pattern Identification: By analyzing the scatter plot, businesses can identify any distinct usage patterns or clusters among their customers. For example, if there are discernible clusters of points representing different customer segments (e.g., heavy day users, heavy night users, balanced users), businesses can tailor their offerings, pricing plans, or promotions to meet the specific needs and preferences of each segment.\n",
        "\n",
        "Negative Growth Considerations:\n",
        "\n",
        "Unusual Usage Patterns: If the scatter plot reveals unusual or unexpected usage patterns, such as customers with extremely high day minutes but very low night minutes, it may indicate anomalies or outliers in the data. These outliers could represent potential issues like data entry errors or fraudulent usage. Failing to identify and address such anomalies could result in negative business impact, including revenue loss or customer dissatisfaction.\n",
        "\n",
        "Imbalanced Usage: If there is a significant imbalance in the usage patterns between day and night minutes, it may indicate a service quality issue. For example, if customers are heavily using day minutes but have limited usage during the night, it could suggest that the nighttime service or pricing plans are not attractive or meeting customer needs. Addressing this imbalance and adjusting service offerings can prevent negative growth by catering to customers' usage preferences."
      ],
      "metadata": {
        "id": "druuKYZpp1ck"
      }
    },
    {
      "cell_type": "markdown",
      "source": [
        "The function jointplot() plots two histograms that may be useful in some cases."
      ],
      "metadata": {
        "id": "xdWOkIeGuxyV"
      }
    },
    {
      "cell_type": "markdown",
      "source": [
        "#### Chart - 12"
      ],
      "metadata": {
        "id": "n3dbpmDWp1ck"
      }
    },
    {
      "cell_type": "code",
      "source": [
        "# Chart - 12 visualization code\n",
        "sns.jointplot(x=\"Total day minutes\", y=\"Total night minutes\", data=df, kind=\"scatter\");"
      ],
      "metadata": {
        "id": "bwevp1tKp1ck"
      },
      "execution_count": null,
      "outputs": []
    },
    {
      "cell_type": "markdown",
      "source": [
        "##### 1. Why did you pick the specific chart?"
      ],
      "metadata": {
        "id": "ylSl6qgtp1ck"
      }
    },
    {
      "cell_type": "markdown",
      "source": [
        "Bivariate Analysis: The joint plot allows you to explore the relationship between two continuous variables, \"Total day minutes\" and \"Total night minutes\". It displays both a scatter plot and a histogram in a single visualization, providing insights into the joint distribution and correlation between the variables."
      ],
      "metadata": {
        "id": "m2xqNkiQp1ck"
      }
    },
    {
      "cell_type": "markdown",
      "source": [
        "##### 2. What is/are the insight(s) found from the chart?"
      ],
      "metadata": {
        "id": "ZWILFDl5p1ck"
      }
    },
    {
      "cell_type": "markdown",
      "source": [
        "If the scatter plot shows a clear upward-sloping pattern, it indicates a positive correlation between \"Total day minutes\" and \"Total night minutes\". This means that customers who use more minutes during the day tend to also use more minutes during the night. This insight suggests that there might be a consistent usage pattern across different times of the day for customers."
      ],
      "metadata": {
        "id": "x-lUsV2mp1ck"
      }
    },
    {
      "cell_type": "markdown",
      "source": [
        "##### 3. Will the gained insights help creating a positive business impact?\n",
        "Are there any insights that lead to negative growth? Justify with specific reason."
      ],
      "metadata": {
        "id": "M7G43BXep1ck"
      }
    },
    {
      "cell_type": "markdown",
      "source": [
        "Usage Pattern Understanding: The insight into the positive correlation between \"Total day minutes\" and \"Total night minutes\" can help businesses understand customer usage patterns. This understanding can inform the development of targeted marketing strategies, service plans, or promotions that cater to customers' usage preferences and maximize customer satisfaction.\n",
        "\n",
        "Service Customization: By analyzing the concentration of data points in the scatter plot, businesses can identify common usage patterns among customers. This insight can be used to customize service offerings, pricing plans, or features to align with the preferences and needs of different customer segments. By tailoring their offerings to match customer preferences, businesses can enhance customer loyalty and retention.\n",
        "\n",
        "Negative Growth Considerations:\n",
        "\n",
        "Imbalanced Usage Patterns: If the scatter plot reveals imbalanced or unusual usage patterns, such as a majority of customers heavily using either day minutes or night minutes but not both, it may indicate a potential issue. Imbalanced usage patterns can suggest that certain services or pricing plans are not appealing or meeting customer needs. Neglecting these imbalances can result in negative growth as customers may seek alternative providers that better meet their usage requirements.\n",
        "\n",
        "Outlier Analysis: The identification of outliers in the scatter plot can provide insights into customers with extreme or irregular usage patterns. Outliers could represent potential issues such as data entry errors, fraudulent activity, or unique customer behavior. Ignoring or failing to address these outliers can lead to negative growth, including revenue loss, customer dissatisfaction, or increased risk."
      ],
      "metadata": {
        "id": "5wwDJXsLp1cl"
      }
    },
    {
      "cell_type": "markdown",
      "source": [
        "#### Chart - 14 - Correlation Heatmap"
      ],
      "metadata": {
        "id": "NC_X3p0fY2L0"
      }
    },
    {
      "cell_type": "markdown",
      "source": [
        "Correlation matrix\n",
        "Let's look at the correlations among the numerical variables in our dataset. This information is important to know as there are Machine Learning algorithms (for example, linear and logistic regression) that do not handle highly correlated input variables well.\n",
        "\n",
        "First, we will use the method corr() on a DataFrame that calculates the correlation between each pair of features. Then, we pass the resulting correlation matrix to heatmap() from seaborn, which renders a color-coded matrix for the"
      ],
      "metadata": {
        "id": "D6iWVEcpVThq"
      }
    },
    {
      "cell_type": "code",
      "source": [
        "# Correlation Heatmap visualization code\n",
        "# Drop non-numerical variables\n",
        "numerical = list(\n",
        "    set(df.columns)\n",
        "    - {\n",
        "        \"State\",\n",
        "        \"International plan\",\n",
        "        \"Voice mail plan\",\n",
        "        \"Area code\",\n",
        "        \"Churn\",\n",
        "        \"Customer service calls\",\n",
        "    }\n",
        ")\n",
        "#Setting up the pane or matrix size\n",
        "f, ax = plt.subplots(figsize=(18,12))  #Width,height\n",
        "# Calculate and plot\n",
        "corr_matrix = df[numerical].corr()\n",
        "sns.heatmap(corr_matrix,mask=np.zeros_like(corr_matrix , dtype=np.bool), cmap=sns.diverging_palette(220,10, as_cmap=True),\\\n",
        "            square=True, ax=ax,annot=True,linewidths=1 , linecolor= 'black',vmin = -1, vmax = 1);\n",
        "plt.show()\n",
        "#f.savefig('heatmap.png')"
      ],
      "metadata": {
        "id": "xyC9zolEZNRQ"
      },
      "execution_count": null,
      "outputs": []
    },
    {
      "cell_type": "markdown",
      "source": [
        "##### 1. Why did you pick the specific chart?"
      ],
      "metadata": {
        "id": "UV0SzAkaZNRQ"
      }
    },
    {
      "cell_type": "markdown",
      "source": [
        "\n",
        " The heatmap provides a visual representation of the correlation coefficients between pairs of numerical variables"
      ],
      "metadata": {
        "id": "DVPuT8LYZNRQ"
      }
    },
    {
      "cell_type": "markdown",
      "source": [
        "##### 2. What is/are the insight(s) found from the chart?"
      ],
      "metadata": {
        "id": "YPEH6qLeZNRQ"
      }
    },
    {
      "cell_type": "markdown",
      "source": [
        "From the colored correlation matrix generated above, we can see that there are 4 variables such as Total day charge that have been calculated directly from the number of minutes spent on phone calls (Total day minutes). These are called dependent variables and can therefore be left out since they do not contribute any additional information. Let's get rid of them:"
      ],
      "metadata": {
        "id": "bfSqtnDqZNRR"
      }
    },
    {
      "cell_type": "markdown",
      "source": [
        "#### Chart - 15 - Pair Plot"
      ],
      "metadata": {
        "id": "q29F0dvdveiT"
      }
    },
    {
      "cell_type": "code",
      "source": [
        "# Pair Plot visualization code\n",
        "# `pairplot()` may become very slow with the SVG or retina format\n",
        "%config InlineBackend.figure_format = 'png'\n",
        "sns.pairplot(df[numerical]);"
      ],
      "metadata": {
        "id": "o58-TEIhveiU"
      },
      "execution_count": null,
      "outputs": []
    },
    {
      "cell_type": "code",
      "source": [
        "#%config InlineBackend.figure_format = 'retina'"
      ],
      "metadata": {
        "id": "uI5uMsUib72Z"
      },
      "execution_count": null,
      "outputs": []
    },
    {
      "cell_type": "markdown",
      "source": [
        "##### 1. Why did you pick the specific chart?\n",
        "\n",
        "Scatterplot matrix\n",
        "In some cases, we may want to plot a scatterplot matrix such as the one shown below. Its diagonal contains the distributions of the corresponding variables, and the scatter plots for each pair of variables fill the rest of the matrix."
      ],
      "metadata": {
        "id": "EXh0U9oCveiU"
      }
    },
    {
      "cell_type": "markdown",
      "source": [
        "Answer Here."
      ],
      "metadata": {
        "id": "eMmPjTByveiU"
      }
    },
    {
      "cell_type": "markdown",
      "source": [
        "##### 2. What is/are the insight(s) found from the chart?"
      ],
      "metadata": {
        "id": "22aHeOlLveiV"
      }
    },
    {
      "cell_type": "markdown",
      "source": [
        "The diagonal plots in the pair plot represent the distributions of individual numerical variables. They provide insights into the shape, spread, and central tendency of each variable. These distributions can help identify any outliers, skewness, or patterns in the data."
      ],
      "metadata": {
        "id": "uPQ8RGwHveiV"
      }
    },
    {
      "cell_type": "markdown",
      "source": [
        "Now, Let's create box plots to visualize the distribution statistics of the numerical variables in two disjoint groups: the loyal customers (Churn=False) and those who left (Churn=True)."
      ],
      "metadata": {
        "id": "RWtRNM4JvK6B"
      }
    },
    {
      "cell_type": "code",
      "source": [
        "# Sometimes you can analyze an ordinal variable just as numerical one\n",
        "numerical.append(\"Customer service calls\")\n",
        "\n",
        "num_features = len(numerical)\n",
        "nrows = int(np.ceil(num_features / 3))  # Calculate the number of required rows\n",
        "fig, axes = plt.subplots(nrows=nrows, ncols=3, figsize=(10, 20  ))\n",
        "\n",
        "\n",
        "\n",
        "for idx, feat in enumerate(numerical):\n",
        "    ax = axes[int(idx / 3), idx % 3]\n",
        "    sns.boxplot(x=\"Churn\", y=feat, data=df, ax=ax)\n",
        "    ax.set_xlabel(\"\")\n",
        "    ax.set_ylabel(feat)\n",
        "\n",
        "fig.tight_layout()"
      ],
      "metadata": {
        "id": "v_X3fMc2vVKT"
      },
      "execution_count": null,
      "outputs": []
    },
    {
      "cell_type": "markdown",
      "source": [
        "From this chart, we can see that the greatest discrepancy in distribution between the two groups is for three variables: Total day minutes, Customer service calls, and Number vmail messages. Later in this course, we will learn how to determine feature importance in classification using Random Forest or Gradient Boosting; there, we will see that the first two features are indeed very important for churn prediction.\n",
        "\n"
      ],
      "metadata": {
        "id": "OAAgqulXxB8A"
      }
    },
    {
      "cell_type": "markdown",
      "source": [
        "An interesting observation: on average, customers that discontinue their contracts are more active users of communication services. Perhaps they are unhappy with the tariffs, so a possible measure to prevent churn could be a reduction in call rates. The company will need to undertake additional economic analysis to find out whether such measures would be beneficial.\n",
        "\n",
        "When we want to analyze a quantitative variable in two categorical dimensions at once, there is a suitable function for this in the seaborn library called catplot(). For example, let's visualize the interaction between Total day minutes and two categorical variables in the same plot:"
      ],
      "metadata": {
        "id": "qLUZ1JRv_mp4"
      }
    },
    {
      "cell_type": "code",
      "source": [
        "sns.catplot(\n",
        "    x=\"Churn\",\n",
        "    y=\"Total day minutes\",\n",
        "    col=\"Customer service calls\",\n",
        "    data=df[df[\"Customer service calls\"] < 8],\n",
        "    kind=\"box\",\n",
        "    col_wrap=4,\n",
        "    height=3,\n",
        "    aspect=0.9,\n",
        ");"
      ],
      "metadata": {
        "id": "Z-q-4IX0_vQB"
      },
      "execution_count": null,
      "outputs": []
    },
    {
      "cell_type": "markdown",
      "source": [
        "From this, we could conclude that, starting with 4 calls, Total day minutes may no longer be the main factor for customer churn. Perhaps, in addition to our previous guess about the tariffs, there are customers that are dissatisfied with the service due to other problems, which might lead to fewer number of day minutes spent on calls."
      ],
      "metadata": {
        "id": "Q5_WFg5__-Sc"
      }
    },
    {
      "cell_type": "markdown",
      "source": [
        "As we saw earlier in this article, the variable Customer service calls has few unique values and, thus, can be considered either numerical or ordinal. We have already seen its distribution with a count plot. Now, we are interested in the relationship between this ordinal feature and the target variable Churn.\n",
        "\n",
        "Let's look at the distribution of the number of calls to customer service, again using a count plot. This time, let's also pass the parameter hue=Churn that adds a categorical dimension to the plot:"
      ],
      "metadata": {
        "id": "V3VZ72TdAC3f"
      }
    },
    {
      "cell_type": "code",
      "source": [
        "sns.countplot(x=\"Customer service calls\", hue=\"Churn\", data=df);"
      ],
      "metadata": {
        "id": "8YDvijPdAF7-"
      },
      "execution_count": null,
      "outputs": []
    },
    {
      "cell_type": "markdown",
      "source": [
        "An observation: the churn rate increases significantly after 4 or more calls to customer service.\n",
        "\n",
        "Now, let's look at the relationship between Churn and the binary features, International plan and Voice mail plan."
      ],
      "metadata": {
        "id": "-RNFq72pANwJ"
      }
    },
    {
      "cell_type": "code",
      "source": [
        "_, axes = plt.subplots(1, 2, sharey=True, figsize=(10, 4))\n",
        "\n",
        "sns.countplot(x=\"International plan\", hue=\"Churn\", data=df, ax=axes[0])\n",
        "sns.countplot(x=\"Voice mail plan\", hue=\"Churn\", data=df, ax=axes[1]);"
      ],
      "metadata": {
        "id": "8ml43CprASwp"
      },
      "execution_count": null,
      "outputs": []
    },
    {
      "cell_type": "markdown",
      "source": [
        "An observation: when International Plan is enabled, the churn rate is much higher; the usage of the international plan by the customer is a strong feature. We do not observe the same effect with Voice mail plan."
      ],
      "metadata": {
        "id": "deMvWcrqAXPM"
      }
    },
    {
      "cell_type": "markdown",
      "source": [
        "## **5. Solution to Business Objective**"
      ],
      "metadata": {
        "id": "JcMwzZxoAimU"
      }
    },
    {
      "cell_type": "markdown",
      "source": [
        "#### What do you suggest the client to achieve Business Objective ?\n"
      ],
      "metadata": {
        "id": "8G2x9gOozGDZ"
      }
    },
    {
      "cell_type": "markdown",
      "source": [
        "To retain customers :*\n",
        "\n",
        "● The company should give incentives who spend more time on calls during day time\n",
        "\n",
        "● The company should concentrate more on pricing than features.\n",
        "\n",
        "● The company should lower prices for international plans and its hourly call rates.\n",
        "\n",
        "● The company should decrease the frequency of customer service calls received by customers."
      ],
      "metadata": {
        "id": "pASKb0qOza21"
      }
    },
    {
      "cell_type": "markdown",
      "source": [
        "# **Conclusion**"
      ],
      "metadata": {
        "id": "gCX9965dhzqZ"
      }
    },
    {
      "cell_type": "markdown",
      "source": [
        "After performing exploratory data analysis on the data set, this is what we have incurred from data:*\n",
        "\n",
        "*There are some states where the churn rate is high as compared to others may be due to low network coverage.*\n",
        "**Area code and Account length do not play any kind of role regarding the churn rate so,it's redundant data columns* **In the International plan those customers who have this plan are churn more and also the international calling charges are also high so the customer who has the plan unsatisfied with network issues and high call charge* **IN the voice mail section when there are more than 20 voice-mail messages then there is a churn so it basically means that the quality of voice mail is not good. *Total day call minutes, total day calls, Total day charge, Total eve minutes, Total eve calls, Total eve charge, Total night minutes, Total night calls, Total night charge, these columns didn't play any kind of role regarding the churn rate.* **In international calls data shows that the churn rate of those customers is high, those who take the international plan so it means that in international call charges are high also there is a call drop or network issue.* **In Customer service calls data shows us that whenever an unsatisfied customer called the service center the churn rate is high, which means the service center didn't resolve the customer issue.*"
      ],
      "metadata": {
        "id": "Fjb1IsQkh3yE"
      }
    },
    {
      "cell_type": "markdown",
      "source": [
        "### ***Hurrah! You have successfully completed your EDA Capstone Project !!!***"
      ],
      "metadata": {
        "id": "gIfDvo9L0UH2"
      }
    }
  ]
}